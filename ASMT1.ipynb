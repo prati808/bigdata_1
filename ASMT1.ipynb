{
  "nbformat": 4,
  "nbformat_minor": 0,
  "metadata": {
    "colab": {
      "provenance": [],
      "toc_visible": true,
      "authorship_tag": "ABX9TyPGjh+C80UaOl84Uoll76e5",
      "include_colab_link": true
    },
    "kernelspec": {
      "name": "python3",
      "display_name": "Python 3"
    },
    "language_info": {
      "name": "python"
    }
  },
  "cells": [
    {
      "cell_type": "markdown",
      "metadata": {
        "id": "view-in-github",
        "colab_type": "text"
      },
      "source": [
        "<a href=\"https://colab.research.google.com/github/prati808/bigdata_1/blob/main/ASMT1.ipynb\" target=\"_parent\"><img src=\"https://colab.research.google.com/assets/colab-badge.svg\" alt=\"Open In Colab\"/></a>"
      ]
    },
    {
      "cell_type": "code",
      "execution_count": null,
      "metadata": {
        "id": "_ShSwnJlbLZC"
      },
      "outputs": [],
      "source": [
        "\n",
        "# Taking input as a string and converting it to a list of characters\n",
        "input_string = input(\"Enter the string 'Python': \")\n",
        "char_list = list(input_string)\n",
        "\n",
        "# Check if the input is \"Python\"\n",
        "if input_string == \"Python\":\n",
        "    # Ensure there are enough characters to delete at least 2\n",
        "    if len(char_list) >= 2:\n",
        "        # Deleting the last two characters as an example\n",
        "        # You can change the indices to delete different characters\n",
        "        del char_list[-2:]\n",
        "\n",
        "        # Reversing the resultant list\n",
        "        char_list.reverse()\n",
        "\n",
        "        # Joining the list back into a string and printing\n",
        "        result_string = \"\".join(char_list)\n",
        "        print(result_string)\n",
        "    else:\n",
        "        print(\"String is too short to delete at least 2 characters.\")\n",
        "else:\n",
        "    print(\"Input string was not 'Python'.\")"
      ]
    },
    {
      "cell_type": "code",
      "source": [
        "num1 = float(input(\"Enter the first number: \"))\n",
        "num2 = float(input(\"Enter the second number: \"))\n",
        "\n",
        "addition = num1 + num2\n",
        "subtract = num1 - num2\n",
        "multiply = num1 * num2\n",
        "divide = num1 / num2\n",
        "\n",
        "print(f\"Addition: {num1} + {num2} = {addition}\")\n",
        "print(f\"Subtraction: {num1} - {num2} = {subtract}\")\n",
        "print(f\"Multiplication: {num1} * {num2} = {multiply}\")\n",
        "print(f\"Division: {num1} / {num2} = {divide}\")"
      ],
      "metadata": {
        "id": "mnta4T47dlsb"
      },
      "execution_count": null,
      "outputs": []
    }
  ]
}