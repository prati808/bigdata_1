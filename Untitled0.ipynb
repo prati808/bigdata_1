{
  "nbformat": 4,
  "nbformat_minor": 0,
  "metadata": {
    "colab": {
      "provenance": [],
      "toc_visible": true,
      "authorship_tag": "ABX9TyOm3yQLKiOsVOZHpHqmTrOm",
      "include_colab_link": true
    },
    "kernelspec": {
      "name": "python3",
      "display_name": "Python 3"
    },
    "language_info": {
      "name": "python"
    }
  },
  "cells": [
    {
      "cell_type": "markdown",
      "metadata": {
        "id": "view-in-github",
        "colab_type": "text"
      },
      "source": [
        "<a href=\"https://colab.research.google.com/github/prati808/bigdata_1/blob/main/Untitled0.ipynb\" target=\"_parent\"><img src=\"https://colab.research.google.com/assets/colab-badge.svg\" alt=\"Open In Colab\"/></a>"
      ]
    },
    {
      "cell_type": "code",
      "execution_count": null,
      "metadata": {
        "id": "_ShSwnJlbLZC"
      },
      "outputs": [],
      "source": [
        "\n",
        "# Taking input as a string and converting it to a list of characters\n",
        "input_string = input(\"Enter the string 'Python': \")\n",
        "char_list = list(input_string)\n",
        "\n",
        "# Check if the input is \"Python\"\n",
        "if input_string == \"Python\":\n",
        "    # Ensure there are enough characters to delete at least 2\n",
        "    if len(char_list) >= 2:\n",
        "        # Deleting the last two characters as an example\n",
        "        # You can change the indices to delete different characters\n",
        "        del char_list[-2:]\n",
        "\n",
        "        # Reversing the resultant list\n",
        "        char_list.reverse()\n",
        "\n",
        "        # Joining the list back into a string and printing\n",
        "        result_string = \"\".join(char_list)\n",
        "        print(result_string)\n",
        "    else:\n",
        "        print(\"String is too short to delete at least 2 characters.\")\n",
        "else:\n",
        "    print(\"Input string was not 'Python'.\")"
      ]
    },
    {
      "cell_type": "code",
      "source": [
        "num1 = float(input(\"Enter the first number: \"))\n",
        "num2 = float(input(\"Enter the second number: \"))\n",
        "\n",
        "addition = num1 + num2\n",
        "subtract = num1 - num2\n",
        "multiply = num1 * num2\n",
        "divide = num1 / num2\n",
        "\n",
        "print(f\"Addition: {num1} + {num2} = {addition}\")\n",
        "print(f\"Subtraction: {num1} - {num2} = {subtract}\")\n",
        "print(f\"Multiplication: {num1} * {num2} = {multiply}\")\n",
        "print(f\"Division: {num1} / {num2} = {divide}\")"
      ],
      "metadata": {
        "id": "mnta4T47dlsb"
      },
      "execution_count": null,
      "outputs": []
    },
    {
      "cell_type": "code",
      "source": [
        "sentence = input(\"Enter a sentence: \")\n",
        "replaced_sentence = sentence.replace('python', 'pythons')\n",
        "replaced_sentence"
      ],
      "metadata": {
        "id": "NgfLnD6keGPT"
      },
      "execution_count": null,
      "outputs": []
    },
    {
      "cell_type": "code",
      "source": [
        "x = [23, 'Python', 23.98]\n",
        "print(x)\n",
        "type_list = []\n",
        "for element in x:\n",
        "  type_list.append(type(element))\n",
        "type_list"
      ],
      "metadata": {
        "id": "rUMBTKkgejm_"
      },
      "execution_count": null,
      "outputs": []
    },
    {
      "cell_type": "code",
      "source": [
        "IT_companies={'Facebook', 'Google', 'Microsoft', 'Apple', 'IBM', 'Oracle', 'Amazon'}\n",
        "A = {19, 22, 24, 20, 25, 26}\n",
        "B = {19, 22, 20, 25, 26, 24, 28, 27}\n",
        "age = [22, 19, 24, 25, 26, 24, 25, 24]\n",
        "\n",
        "print(f\"Length of IT_companies: {len(IT_companies)}\")\n",
        "\n",
        "# Add 'Twitter' to IT_companies\n",
        "IT_companies.add('Twitter')\n",
        "print(f\"IT_companies after adding Twitter: {IT_companies}\")\n",
        "\n",
        "# Insert multiple IT companies at once to the set IT_companies\n",
        "new_companies = {'Netflix', 'Uber', 'Lyft'}\n",
        "IT_companies.update(new_companies)\n",
        "print(f\"IT_companies after adding multiple companies: {IT_companies}\")\n",
        "\n",
        "# Remove one of the companies from the set IT_companies\n",
        "# Example: removing 'Google'\n",
        "if 'Google' in IT_companies:\n",
        "  IT_companies.remove('Google')\n",
        "  print(f\"IT_companies after removing Google: {IT_companies}\")\n",
        "else:\n",
        "  print(\"Google is not in IT_companies\")\n",
        "\n",
        "# What is the difference between remove and discard\n",
        "print(\"\\nDifference between remove and discard:\")\n",
        "print(\"remove() raises a KeyError if the item is not found.\")\n",
        "print(\"discard() does nothing if the item is not found.\")\n",
        "# Example of discard\n",
        "IT_companies.discard('Google') # Does nothing since Google was removed\n",
        "print(f\"IT_companies after discarding Google again (no change): {IT_companies}\")\n",
        "# Example of remove (will raise an error if 'Google' is not added back)\n",
        "# IT_companies.remove('Google') # Uncommenting this would raise a KeyError\n",
        "\n",
        "# Join A and B\n",
        "C = A.union(B)\n",
        "print(f\"A union B: {C}\")\n",
        "\n",
        "# Find A intersection B\n",
        "D = A.intersection(B)\n",
        "print(f\"A intersection B: {D}\")\n",
        "\n",
        "# Is A subset of B\n",
        "print(f\"Is A subset of B: {A.issubset(B)}\")\n",
        "\n",
        "# Are A and B disjoint sets\n",
        "print(f\"Are A and B disjoint: {A.isdisjoint(B)}\")\n",
        "\n",
        "# Join A with B and B with A (union is commutative)\n",
        "print(f\"A union B (again): {A.union(B)}\")\n",
        "print(f\"B union A: {B.union(A)}\")\n",
        "\n",
        "# What is the symmetric difference between A and B\n",
        "symmetric_diff = A.symmetric_difference(B)\n",
        "print(f\"Symmetric difference between A and B: {symmetric_diff}\")\n",
        "\n",
        "# Convert the ages to a set and compare the length of the list and the set.\n",
        "age_set = set(age)\n",
        "print(f\"\\nAges list: {age}\")\n",
        "print(f\"Ages set: {age_set}\")\n",
        "print(f\"Length of age list: {len(age)}\")\n",
        "print(f\"Length of age set: {len(age_set)}\")\n",
        "print(f\"Length of age list == Length of age set: {len(age) == len(age_set)}\")\n",
        "\n",
        "# Delete the sets completely\n",
        "del IT_companies\n",
        "del A\n",
        "del B\n",
        "del age\n",
        "del age_set\n",
        "# Uncomment the lines below to confirm deletion would raise a NameError\n",
        "# print(IT_companies)\n",
        "# print(A)\n",
        "# print(B)\n",
        "# print(age)\n",
        "# print(age_set)\n",
        "print(\"\\nSets IT_companies, A, B, age, and age_set have been deleted.\")\n",
        "```"
      ],
      "metadata": {
        "id": "Hc7ebdQVf4Yi"
      },
      "execution_count": null,
      "outputs": []
    }
  ]
}