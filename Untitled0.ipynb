{
  "nbformat": 4,
  "nbformat_minor": 0,
  "metadata": {
    "colab": {
      "provenance": [],
      "authorship_tag": "ABX9TyNiOLKbZg3vvKDzOCzy6kyk",
      "include_colab_link": true
    },
    "kernelspec": {
      "name": "python3",
      "display_name": "Python 3"
    },
    "language_info": {
      "name": "python"
    }
  },
  "cells": [
    {
      "cell_type": "markdown",
      "metadata": {
        "id": "view-in-github",
        "colab_type": "text"
      },
      "source": [
        "<a href=\"https://colab.research.google.com/github/prati808/bigdata_1/blob/main/Untitled0.ipynb\" target=\"_parent\"><img src=\"https://colab.research.google.com/assets/colab-badge.svg\" alt=\"Open In Colab\"/></a>"
      ]
    },
    {
      "cell_type": "code",
      "execution_count": 2,
      "metadata": {
        "id": "_ShSwnJlbLZC",
        "colab": {
          "base_uri": "https://localhost:8080/"
        },
        "collapsed": true,
        "outputId": "29b20a89-73ed-4953-91be-8278268baab5"
      },
      "outputs": [
        {
          "output_type": "stream",
          "name": "stdout",
          "text": [
            "Enter the string 'Python': Python\n",
            "htyP\n"
          ]
        }
      ],
      "source": [
        "input_string = input(\"Enter the string 'Python': \")\n",
        "char_list = list(input_string)\n",
        "\n",
        "if input_string == \"Python\":\n",
        "    if len(char_list) >= 2:\n",
        "        del char_list[-2:]\n",
        "        char_list.reverse()\n",
        "\n",
        "        result_string = \"\".join(char_list)\n",
        "        print(result_string)\n",
        "    else:\n",
        "        print(\"String is too short to delete at least 2 characters.\")\n",
        "else:\n",
        "    print(\"Input string was not 'Python'.\")"
      ]
    },
    {
      "cell_type": "code",
      "source": [
        "num1 = float(input(\"Enter the first number: \"))\n",
        "num2 = float(input(\"Enter the second number: \"))\n",
        "\n",
        "addition = num1 + num2\n",
        "subtract = num1 - num2\n",
        "multiply = num1 * num2\n",
        "divide = num1 / num2\n",
        "\n",
        "print(f\"Addition: {num1} + {num2} = {addition}\")\n",
        "print(f\"Subtraction: {num1} - {num2} = {subtract}\")\n",
        "print(f\"Multiplication: {num1} * {num2} = {multiply}\")\n",
        "print(f\"Division: {num1} / {num2} = {divide}\")"
      ],
      "metadata": {
        "colab": {
          "base_uri": "https://localhost:8080/"
        },
        "collapsed": true,
        "id": "mnta4T47dlsb",
        "outputId": "1bd6120a-e115-4e9a-f990-905394fd1f9d"
      },
      "execution_count": 3,
      "outputs": [
        {
          "output_type": "stream",
          "name": "stdout",
          "text": [
            "Enter the first number: 8\n",
            "Enter the second number: 5\n",
            "Addition: 8.0 + 5.0 = 13.0\n",
            "Subtraction: 8.0 - 5.0 = 3.0\n",
            "Multiplication: 8.0 * 5.0 = 40.0\n",
            "Division: 8.0 / 5.0 = 1.6\n"
          ]
        }
      ]
    },
    {
      "cell_type": "code",
      "source": [
        "sentence = input(\"Enter a sentence: \")\n",
        "replaced_sentence = sentence.replace('python', 'pythons')\n",
        "replaced_sentence"
      ],
      "metadata": {
        "colab": {
          "base_uri": "https://localhost:8080/",
          "height": 53
        },
        "collapsed": true,
        "id": "NgfLnD6keGPT",
        "outputId": "ac57779e-f72c-4182-beed-d4b18f5377e4"
      },
      "execution_count": 4,
      "outputs": [
        {
          "name": "stdout",
          "output_type": "stream",
          "text": [
            "Enter a sentence: python is an easy language\n"
          ]
        },
        {
          "output_type": "execute_result",
          "data": {
            "text/plain": [
              "'pythons is an easy language'"
            ],
            "application/vnd.google.colaboratory.intrinsic+json": {
              "type": "string"
            }
          },
          "metadata": {},
          "execution_count": 4
        }
      ]
    },
    {
      "cell_type": "code",
      "source": [
        "x = [23, 'Python', 23.98]\n",
        "print(x)\n",
        "type_list = []\n",
        "for element in x:\n",
        "  type_list.append(type(element))\n",
        "type_list"
      ],
      "metadata": {
        "colab": {
          "base_uri": "https://localhost:8080/"
        },
        "collapsed": true,
        "id": "rUMBTKkgejm_",
        "outputId": "6e6dcd6e-3567-479a-896c-5f97f2b9433b"
      },
      "execution_count": 5,
      "outputs": [
        {
          "output_type": "stream",
          "name": "stdout",
          "text": [
            "[23, 'Python', 23.98]\n"
          ]
        },
        {
          "output_type": "execute_result",
          "data": {
            "text/plain": [
              "[int, str, float]"
            ]
          },
          "metadata": {},
          "execution_count": 5
        }
      ]
    },
    {
      "cell_type": "code",
      "source": [
        " IT_companies = {'Facebook', 'Google', 'Microsoft', 'Apple', 'IBM', 'Oracle', 'Amazon'}\n",
        " A = {19, 22, 24, 20, 25, 26}\n",
        " B = {19, 22, 20, 25, 26, 24, 28, 27}\n",
        " age = [22, 19, 24, 25, 26, 24, 25, 24]\n",
        "\n",
        "# Find the length of the set IT_companies\n",
        "print(len(IT_companies))\n",
        "\n",
        "# Add 'Twitter' to IT_companies\n",
        "IT_companies.add('Twitter')\n",
        "print(IT_companies)\n",
        "\n",
        "# Insert multiple IT companies at once to the set IT_companies\n",
        "IT_companies.update(['Netflix', 'Tesla'])\n",
        "print(IT_companies)\n",
        "\n",
        "# Remove one of the companies from the set IT_companies\n",
        "IT_companies.remove('IBM')\n",
        "print(IT_companies)\n",
        "\n",
        "# What is the difference between remove and discard\n",
        "print(\"remove() raises an error if the item is not found, discard() does not.\")\n",
        "\n",
        "# Join A and B\n",
        "C = A.union(B)\n",
        "print(C)\n",
        "\n",
        "# Find A intersection B\n",
        "D = A.intersection(B)\n",
        "print(D)\n",
        "\n",
        "# Is A subset of B\n",
        "print(A.issubset(B))\n",
        "\n",
        "# Are A and B disjoint sets\n",
        "print(A.isdisjoint(B))\n",
        "\n",
        "# Join A with B and B with A\n",
        "E = A.union(B) # Same as A.union(B)\n",
        "print(E)\n",
        "\n",
        "# What is the symmetric difference between A and B\n",
        "F = A.symmetric_difference(B)\n",
        "print(F)\n",
        "\n",
        "# Delete the sets completely\n",
        "del IT_companies\n",
        "del A\n",
        "del B\n",
        "\n",
        "# Convert the ages to a set and compare the length of the list and the set.\n",
        "age_set = set(age)\n",
        "print(f\"Length of age list: {len(age)}\")\n",
        "print(f\"Length of age set: {len(age_set)}\")\n",
        "print(\"The length is different because sets only contain unique elements.\")"
      ],
      "metadata": {
        "collapsed": true,
        "colab": {
          "base_uri": "https://localhost:8080/"
        },
        "id": "UJf_zN07imXL",
        "outputId": "cbcdd2fc-2f5e-43a9-d4a9-cb2690bab4d2"
      },
      "execution_count": 8,
      "outputs": [
        {
          "output_type": "stream",
          "name": "stdout",
          "text": [
            "7\n",
            "{'Amazon', 'IBM', 'Oracle', 'Google', 'Microsoft', 'Twitter', 'Apple', 'Facebook'}\n",
            "{'Amazon', 'Facebook', 'Netflix', 'Tesla', 'Oracle', 'Google', 'Twitter', 'IBM', 'Microsoft', 'Apple'}\n",
            "{'Amazon', 'Facebook', 'Netflix', 'Tesla', 'Oracle', 'Google', 'Twitter', 'Microsoft', 'Apple'}\n",
            "remove() raises an error if the item is not found, discard() does not.\n",
            "{19, 20, 22, 24, 25, 26, 27, 28}\n",
            "{19, 20, 22, 24, 25, 26}\n",
            "True\n",
            "False\n",
            "{19, 20, 22, 24, 25, 26, 27, 28}\n",
            "{27, 28}\n",
            "Length of age list: 8\n",
            "Length of age set: 5\n",
            "The length is different because sets only contain unique elements.\n"
          ]
        }
      ]
    }
  ]
}