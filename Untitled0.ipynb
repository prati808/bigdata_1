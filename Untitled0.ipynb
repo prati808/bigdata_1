{
  "nbformat": 4,
  "nbformat_minor": 0,
  "metadata": {
    "colab": {
      "provenance": [],
      "toc_visible": true,
      "authorship_tag": "ABX9TyOP9T9EI6+5/rBAmJ5k+UhQ",
      "include_colab_link": true
    },
    "kernelspec": {
      "name": "python3",
      "display_name": "Python 3"
    },
    "language_info": {
      "name": "python"
    }
  },
  "cells": [
    {
      "cell_type": "markdown",
      "metadata": {
        "id": "view-in-github",
        "colab_type": "text"
      },
      "source": [
        "<a href=\"https://colab.research.google.com/github/prati808/bigdata_1/blob/main/Untitled0.ipynb\" target=\"_parent\"><img src=\"https://colab.research.google.com/assets/colab-badge.svg\" alt=\"Open In Colab\"/></a>"
      ]
    },
    {
      "cell_type": "code",
      "execution_count": null,
      "metadata": {
        "id": "_ShSwnJlbLZC"
      },
      "outputs": [],
      "source": [
        "\n",
        "# Taking input as a string and converting it to a list of characters\n",
        "input_string = input(\"Enter the string 'Python': \")\n",
        "char_list = list(input_string)\n",
        "\n",
        "# Check if the input is \"Python\"\n",
        "if input_string == \"Python\":\n",
        "    # Ensure there are enough characters to delete at least 2\n",
        "    if len(char_list) >= 2:\n",
        "        # Deleting the last two characters as an example\n",
        "        # You can change the indices to delete different characters\n",
        "        del char_list[-2:]\n",
        "\n",
        "        # Reversing the resultant list\n",
        "        char_list.reverse()\n",
        "\n",
        "        # Joining the list back into a string and printing\n",
        "        result_string = \"\".join(char_list)\n",
        "        print(result_string)\n",
        "    else:\n",
        "        print(\"String is too short to delete at least 2 characters.\")\n",
        "else:\n",
        "    print(\"Input string was not 'Python'.\")"
      ]
    },
    {
      "cell_type": "code",
      "source": [
        "num1 = float(input(\"Enter the first number: \"))\n",
        "num2 = float(input(\"Enter the second number: \"))\n",
        "\n",
        "addition = num1 + num2\n",
        "subtract = num1 - num2\n",
        "multiply = num1 * num2\n",
        "divide = num1 / num2\n",
        "\n",
        "print(f\"Addition: {num1} + {num2} = {addition}\")\n",
        "print(f\"Subtraction: {num1} - {num2} = {subtract}\")\n",
        "print(f\"Multiplication: {num1} * {num2} = {multiply}\")\n",
        "print(f\"Division: {num1} / {num2} = {divide}\")"
      ],
      "metadata": {
        "id": "mnta4T47dlsb"
      },
      "execution_count": null,
      "outputs": []
    },
    {
      "cell_type": "code",
      "source": [
        "sentence = input(\"Enter a sentence: \")\n",
        "replaced_sentence = sentence.replace('python', 'pythons')\n",
        "replaced_sentence"
      ],
      "metadata": {
        "id": "NgfLnD6keGPT"
      },
      "execution_count": null,
      "outputs": []
    },
    {
      "cell_type": "code",
      "source": [
        "x = [23, 'Python', 23.98]\n",
        "print(x)\n",
        "type_list = []\n",
        "for element in x:\n",
        "  type_list.append(type(element))\n",
        "type_list"
      ],
      "metadata": {
        "id": "rUMBTKkgejm_"
      },
      "execution_count": null,
      "outputs": []
    }
  ]
}